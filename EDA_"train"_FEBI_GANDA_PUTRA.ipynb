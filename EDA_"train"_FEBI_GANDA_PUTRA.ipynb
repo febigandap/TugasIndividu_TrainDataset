{
  "nbformat": 4,
  "nbformat_minor": 0,
  "metadata": {
    "colab": {
      "name": "EDA \"train\" FEBI GANDA PUTRA.ipynb",
      "provenance": [],
      "collapsed_sections": [],
      "authorship_tag": "ABX9TyNS8o6AvOqcQFwiPr4CrBPf",
      "include_colab_link": true
    },
    "kernelspec": {
      "name": "python3",
      "display_name": "Python 3"
    }
  },
  "cells": [
    {
      "cell_type": "markdown",
      "metadata": {
        "id": "view-in-github",
        "colab_type": "text"
      },
      "source": [
        "<a href=\"https://colab.research.google.com/github/febigandap/TugasIndividu_TrainDataset/blob/master/EDA_%22train%22_FEBI_GANDA_PUTRA.ipynb\" target=\"_parent\"><img src=\"https://colab.research.google.com/assets/colab-badge.svg\" alt=\"Open In Colab\"/></a>"
      ]
    },
    {
      "cell_type": "markdown",
      "metadata": {
        "id": "VU1QaHOhZK1N",
        "colab_type": "text"
      },
      "source": [
        "**PERTANYAAN YANG AKAN DI JAWAB PADA PROSES INI ADALAH :**\n",
        "\n",
        "Menghitung jumlah penumpang kereta pada masing-masing “class” dengan parameter “gender”, dan “satisfaction” penumpang."
      ]
    },
    {
      "cell_type": "markdown",
      "metadata": {
        "id": "Vcr6yffoHRMM",
        "colab_type": "text"
      },
      "source": [
        "**1. INSTALASI SPARK PADA GOOGLE COLAB**"
      ]
    },
    {
      "cell_type": "code",
      "metadata": {
        "id": "8QZr-axJGwzO",
        "colab_type": "code",
        "colab": {}
      },
      "source": [
        "!apt-get install openjdk-8-jdk-headless -qq > /dev/null\n",
        "!wget -q http://www-eu.apache.org/dist/spark/spark-2.4.5/spark-2.4.5-bin-hadoop2.7.tgz\n",
        "!tar xf spark-2.4.5-bin-hadoop2.7.tgz\n",
        "!pip install -q findspark"
      ],
      "execution_count": 50,
      "outputs": []
    },
    {
      "cell_type": "code",
      "metadata": {
        "id": "0wPd4ebgH5H4",
        "colab_type": "code",
        "colab": {}
      },
      "source": [
        "import os\n",
        "os.environ[\"JAVA_HOME\"] = \"/usr/lib/jvm/java-8-openjdk-amd64\"\n",
        "os.environ[\"SPARK_HOME\"] = \"/content/spark-2.4.5-bin-hadoop2.7\""
      ],
      "execution_count": 65,
      "outputs": []
    },
    {
      "cell_type": "markdown",
      "metadata": {
        "id": "PdvgF5ZsIK0S",
        "colab_type": "text"
      },
      "source": [
        "**2. IMPORT LIBRARY SPARK YANG SUDAH DIINSTALL**"
      ]
    },
    {
      "cell_type": "code",
      "metadata": {
        "id": "U3eNS1GlIWCc",
        "colab_type": "code",
        "colab": {}
      },
      "source": [
        "import findspark\n",
        "findspark.init(\"spark-2.4.5-bin-hadoop2.7\")# SPARK_HOME\n",
        "from pyspark.sql import SparkSession\n",
        "spark = SparkSession.builder.master(\"local[*]\").getOrCreate()\n",
        "from pyspark.sql.functions import col, avg"
      ],
      "execution_count": 66,
      "outputs": []
    },
    {
      "cell_type": "code",
      "metadata": {
        "id": "VODNLiEfIjM9",
        "colab_type": "code",
        "colab": {}
      },
      "source": [
        "!pip install -q pyspark_dist_explore"
      ],
      "execution_count": 57,
      "outputs": []
    },
    {
      "cell_type": "code",
      "metadata": {
        "id": "227fil6VIpDc",
        "colab_type": "code",
        "colab": {}
      },
      "source": [
        "import matplotlib.pyplot as plt\n",
        "from pyspark_dist_explore import Histogram, hist\n"
      ],
      "execution_count": 68,
      "outputs": []
    },
    {
      "cell_type": "markdown",
      "metadata": {
        "id": "ZU8e08UHI7PE",
        "colab_type": "text"
      },
      "source": [
        "**3. INISIALISASI SPARK CONTEXT DAN SPARK SESSION**"
      ]
    },
    {
      "cell_type": "code",
      "metadata": {
        "id": "WsApRvZFJBdo",
        "colab_type": "code",
        "colab": {}
      },
      "source": [
        "sc = spark.sparkContext\n",
        "spark = SparkSession(sc)"
      ],
      "execution_count": 69,
      "outputs": []
    },
    {
      "cell_type": "markdown",
      "metadata": {
        "id": "1g_szcqJJPrq",
        "colab_type": "text"
      },
      "source": [
        "**4. LOAD DATASET**"
      ]
    },
    {
      "cell_type": "code",
      "metadata": {
        "id": "AOZ8hmNCJSdB",
        "colab_type": "code",
        "colab": {
          "base_uri": "https://localhost:8080/",
          "height": 485
        },
        "outputId": "1ae89447-f678-4830-9b1d-de2caa85c22e"
      },
      "source": [
        "train_df = spark.read.csv(\"Train.csv\", header=True, inferSchema=True)\n",
        "train_df.printSchema()            #mengecek schema dari dataset"
      ],
      "execution_count": 70,
      "outputs": [
        {
          "output_type": "stream",
          "text": [
            "root\n",
            " |-- _c0: integer (nullable = true)\n",
            " |-- id: integer (nullable = true)\n",
            " |-- Gender: string (nullable = true)\n",
            " |-- Customer Type: string (nullable = true)\n",
            " |-- Age: integer (nullable = true)\n",
            " |-- Type of Travel: string (nullable = true)\n",
            " |-- Class: string (nullable = true)\n",
            " |-- Flight Distance: integer (nullable = true)\n",
            " |-- Inflight wifi service: integer (nullable = true)\n",
            " |-- Departure/Arrival time convenient: integer (nullable = true)\n",
            " |-- Ease of Online booking: integer (nullable = true)\n",
            " |-- Gate location: integer (nullable = true)\n",
            " |-- Food and drink: integer (nullable = true)\n",
            " |-- Online boarding: integer (nullable = true)\n",
            " |-- Seat comfort: integer (nullable = true)\n",
            " |-- Inflight entertainment: integer (nullable = true)\n",
            " |-- On-board service: integer (nullable = true)\n",
            " |-- Leg room service: integer (nullable = true)\n",
            " |-- Baggage handling: integer (nullable = true)\n",
            " |-- Checkin service: integer (nullable = true)\n",
            " |-- Inflight service: integer (nullable = true)\n",
            " |-- Cleanliness: integer (nullable = true)\n",
            " |-- Departure Delay in Minutes: integer (nullable = true)\n",
            " |-- Arrival Delay in Minutes: double (nullable = true)\n",
            " |-- satisfaction: string (nullable = true)\n",
            "\n"
          ],
          "name": "stdout"
        }
      ]
    },
    {
      "cell_type": "markdown",
      "metadata": {
        "id": "ce2RtXJKPWep",
        "colab_type": "text"
      },
      "source": [
        "**5. PROSES EDA**"
      ]
    },
    {
      "cell_type": "code",
      "metadata": {
        "id": "6Anyy-IsPZN0",
        "colab_type": "code",
        "colab": {
          "base_uri": "https://localhost:8080/",
          "height": 52
        },
        "outputId": "b113187d-b45a-467b-9533-30639551cab6"
      },
      "source": [
        "print(\"Jumlah total penumpang kereta:\")\n",
        "train_df.count()"
      ],
      "execution_count": 71,
      "outputs": [
        {
          "output_type": "stream",
          "text": [
            "Jumlah total penumpang kereta:\n"
          ],
          "name": "stdout"
        },
        {
          "output_type": "execute_result",
          "data": {
            "text/plain": [
              "103904"
            ]
          },
          "metadata": {
            "tags": []
          },
          "execution_count": 71
        }
      ]
    },
    {
      "cell_type": "code",
      "metadata": {
        "id": "QCobUxTYP0Da",
        "colab_type": "code",
        "colab": {
          "base_uri": "https://localhost:8080/",
          "height": 173
        },
        "outputId": "88592152-4034-47e1-892f-62d04364ae20"
      },
      "source": [
        "print(\"Jumlah penumpang pada masing-masing Class Kereta : \")\n",
        "train_df.groupby(\"class\").count().show()"
      ],
      "execution_count": 72,
      "outputs": [
        {
          "output_type": "stream",
          "text": [
            "Jumlah penumpang pada masing-masing Class Kereta : \n",
            "+--------+-----+\n",
            "|   class|count|\n",
            "+--------+-----+\n",
            "|Eco Plus| 7494|\n",
            "|Business|49665|\n",
            "|     Eco|46745|\n",
            "+--------+-----+\n",
            "\n"
          ],
          "name": "stdout"
        }
      ]
    },
    {
      "cell_type": "code",
      "metadata": {
        "id": "cliXcPV0dSda",
        "colab_type": "code",
        "colab": {
          "base_uri": "https://localhost:8080/",
          "height": 156
        },
        "outputId": "6e54a99a-b6d9-40a7-f8d6-7a0c72e01076"
      },
      "source": [
        "print(\"Jumlah penumpang pada masing-masing gender : \")\n",
        "train_df.groupby(\"gender\").count().show()"
      ],
      "execution_count": 78,
      "outputs": [
        {
          "output_type": "stream",
          "text": [
            "Jumlah penumpang pada masing-masing gender : \n",
            "+------+-----+\n",
            "|gender|count|\n",
            "+------+-----+\n",
            "|Female|52727|\n",
            "|  Male|51177|\n",
            "+------+-----+\n",
            "\n"
          ],
          "name": "stdout"
        }
      ]
    },
    {
      "cell_type": "code",
      "metadata": {
        "id": "sUlfAKRHfe5I",
        "colab_type": "code",
        "colab": {
          "base_uri": "https://localhost:8080/",
          "height": 225
        },
        "outputId": "f51901ab-d222-4935-bd7e-5fd1bdf5b4c1"
      },
      "source": [
        "print(\"Jumlah Gate Location : \")\n",
        "train_df.groupby(\"Gate Location\").count().show()"
      ],
      "execution_count": 88,
      "outputs": [
        {
          "output_type": "stream",
          "text": [
            "Jumlah Gate Location : \n",
            "+-------------+-----+\n",
            "|Gate Location|count|\n",
            "+-------------+-----+\n",
            "|            1|17562|\n",
            "|            3|28577|\n",
            "|            5|13879|\n",
            "|            4|24426|\n",
            "|            2|19459|\n",
            "|            0|    1|\n",
            "+-------------+-----+\n",
            "\n"
          ],
          "name": "stdout"
        }
      ]
    },
    {
      "cell_type": "code",
      "metadata": {
        "id": "Ib8x2pqNQE7_",
        "colab_type": "code",
        "colab": {
          "base_uri": "https://localhost:8080/",
          "height": 191
        },
        "outputId": "5c025b0b-e2c4-46aa-9512-80b99da24b57"
      },
      "source": [
        "train_df.select('Age').describe().show()"
      ],
      "execution_count": 73,
      "outputs": [
        {
          "output_type": "stream",
          "text": [
            "+-------+------------------+\n",
            "|summary|               Age|\n",
            "+-------+------------------+\n",
            "|  count|            103904|\n",
            "|   mean|39.379706267323684|\n",
            "| stddev|15.114963699737805|\n",
            "|    min|                 7|\n",
            "|    max|                85|\n",
            "+-------+------------------+\n",
            "\n"
          ],
          "name": "stdout"
        }
      ]
    },
    {
      "cell_type": "code",
      "metadata": {
        "id": "WLtdl3kMdhA1",
        "colab_type": "code",
        "colab": {
          "base_uri": "https://localhost:8080/",
          "height": 320
        },
        "outputId": "ff8561f9-ca63-4bf3-cac4-afb25b9a78ef"
      },
      "source": [
        "train_df_flight_distance = train_df.select('Flight Distance')\n",
        "fig, axes = plt.subplots()\n",
        "fig.set_size_inches(5, 5)\n",
        "hist(axes, train_df_flight_distance, bins=20, color=\"pink\")\n",
        "plt.show()"
      ],
      "execution_count": 80,
      "outputs": [
        {
          "output_type": "display_data",
          "data": {
            "image/png": "[encoded data removed]",
            "text/plain": [
              "<Figure size 360x360 with 1 Axes>"
            ]
          },
          "metadata": {
            "tags": [],
            "needs_background": "light"
          }
        }
      ]
    },
    {
      "cell_type": "code",
      "metadata": {
        "id": "TKJkpopieVSW",
        "colab_type": "code",
        "colab": {
          "base_uri": "https://localhost:8080/",
          "height": 52
        },
        "outputId": "1b912941-a2f3-4592-c15b-aa53182b75c8"
      },
      "source": [
        "print(\"Jumlah total penumpang dengan kolom Flight Distance kosong(null):\")\n",
        "train_df.where(col(\"Flight Distance\").isNull()).count()"
      ],
      "execution_count": 82,
      "outputs": [
        {
          "output_type": "stream",
          "text": [
            "Jumlah total penumpang dengan kolom Flight Distance kosong(null):\n"
          ],
          "name": "stdout"
        },
        {
          "output_type": "execute_result",
          "data": {
            "text/plain": [
              "0"
            ]
          },
          "metadata": {
            "tags": []
          },
          "execution_count": 82
        }
      ]
    },
    {
      "cell_type": "code",
      "metadata": {
        "id": "xjo5HtwrS3zy",
        "colab_type": "code",
        "colab": {
          "base_uri": "https://localhost:8080/",
          "height": 320
        },
        "outputId": "89588749-3683-4ce1-ce17-31e1940c7c8e"
      },
      "source": [
        "train_df_age = train_df.select('Age')\n",
        "fig, axes = plt.subplots()\n",
        "fig.set_size_inches(5, 5)\n",
        "hist(axes, train_df_age, bins=20, color=\"green\")\n",
        "plt.show()"
      ],
      "execution_count": 75,
      "outputs": [
        {
          "output_type": "display_data",
          "data": {
            "image/png": "[encoded data removed]",
            "text/plain": [
              "<Figure size 360x360 with 1 Axes>"
            ]
          },
          "metadata": {
            "tags": [],
            "needs_background": "light"
          }
        }
      ]
    },
    {
      "cell_type": "code",
      "metadata": {
        "id": "NYnK-RD8ewLi",
        "colab_type": "code",
        "colab": {
          "base_uri": "https://localhost:8080/",
          "height": 52
        },
        "outputId": "7dd47c78-e1d1-460b-ca04-53622929651a"
      },
      "source": [
        "print(\"Jumlah total penumpang dengan kolom Age kosong(null):\")\n",
        "train_df.where(col(\"Age\").isNull()).count()"
      ],
      "execution_count": 84,
      "outputs": [
        {
          "output_type": "stream",
          "text": [
            "Jumlah total penumpang dengan kolom Age kosong(null):\n"
          ],
          "name": "stdout"
        },
        {
          "output_type": "execute_result",
          "data": {
            "text/plain": [
              "0"
            ]
          },
          "metadata": {
            "tags": []
          },
          "execution_count": 84
        }
      ]
    },
    {
      "cell_type": "code",
      "metadata": {
        "id": "ISkb5O8xeAbe",
        "colab_type": "code",
        "colab": {
          "base_uri": "https://localhost:8080/",
          "height": 320
        },
        "outputId": "4bc28b75-2ea5-48c9-fadb-23acb2502055"
      },
      "source": [
        "train_df_cleanliness = train_df.select('Cleanliness')\n",
        "fig, axes = plt.subplots()\n",
        "fig.set_size_inches(5, 5)\n",
        "hist(axes, train_df_cleanliness, bins=20, color=\"orange\")\n",
        "plt.show()"
      ],
      "execution_count": 81,
      "outputs": [
        {
          "output_type": "display_data",
          "data": {
            "image/png": "[encoded data removed]",
            "text/plain": [
              "<Figure size 360x360 with 1 Axes>"
            ]
          },
          "metadata": {
            "tags": [],
            "needs_background": "light"
          }
        }
      ]
    },
    {
      "cell_type": "code",
      "metadata": {
        "id": "4ARDrRbBW0Av",
        "colab_type": "code",
        "colab": {
          "base_uri": "https://localhost:8080/",
          "height": 52
        },
        "outputId": "c5def8b1-6027-4521-ebc9-43a63cd20a89"
      },
      "source": [
        "print(\"Jumlah total penumpang dengan kolom cleanliness kosong(null):\")\n",
        "train_df.where(col(\"Cleanliness\").isNull()).count()"
      ],
      "execution_count": 83,
      "outputs": [
        {
          "output_type": "stream",
          "text": [
            "Jumlah total penumpang dengan kolom cleanliness kosong(null):\n"
          ],
          "name": "stdout"
        },
        {
          "output_type": "execute_result",
          "data": {
            "text/plain": [
              "0"
            ]
          },
          "metadata": {
            "tags": []
          },
          "execution_count": 83
        }
      ]
    },
    {
      "cell_type": "markdown",
      "metadata": {
        "id": "7ga5NirZW6fX",
        "colab_type": "text"
      },
      "source": [
        "**6. PRE - PROCESSING DATA**"
      ]
    },
    {
      "cell_type": "code",
      "metadata": {
        "id": "OVVs2vKPXEKn",
        "colab_type": "code",
        "colab": {
          "base_uri": "https://localhost:8080/",
          "height": 35
        },
        "outputId": "65d67a5a-80cf-478f-bb1b-03592712daf7"
      },
      "source": [
        "mean_age = train_df.agg(avg(col(\"Age\"))).first()\n",
        "print(\"rata-rata umur penumpang\", mean_age[0])\n",
        "train_df = train_df.na.fill(mean_age[0], [\"Age\"])"
      ],
      "execution_count": 77,
      "outputs": [
        {
          "output_type": "stream",
          "text": [
            "rata-rata umur penumpang 39.379706267323684\n"
          ],
          "name": "stdout"
        }
      ]
    },
    {
      "cell_type": "code",
      "metadata": {
        "id": "a6yz0HF6e454",
        "colab_type": "code",
        "colab": {
          "base_uri": "https://localhost:8080/",
          "height": 35
        },
        "outputId": "ede30e9f-3809-467f-e42c-da05523018f3"
      },
      "source": [
        "mean_fd = train_df.agg(avg(col(\"Flight Distance\"))).first()\n",
        "print(\"rata-rata jarak terbang\", mean_fd[0])\n",
        "train_df = train_df.na.fill(mean_fd[0], [\"Flight Distance\"])"
      ],
      "execution_count": 86,
      "outputs": [
        {
          "output_type": "stream",
          "text": [
            "rata-rata jarak terbang 1189.4483754234677\n"
          ],
          "name": "stdout"
        }
      ]
    },
    {
      "cell_type": "code",
      "metadata": {
        "id": "n-IyijS5hdWu",
        "colab_type": "code",
        "colab": {
          "base_uri": "https://localhost:8080/",
          "height": 35
        },
        "outputId": "65170db1-5eb1-4d40-c2c6-fa36e8ba2213"
      },
      "source": [
        "mean_fd = train_df.agg(avg(col(\"Cleanliness\"))).first()\n",
        "print(\"rata-rata Cleanliness\", mean_fd[0])\n",
        "train_df = train_df.na.fill(mean_fd[0], [\"Cleanliness\"])"
      ],
      "execution_count": 89,
      "outputs": [
        {
          "output_type": "stream",
          "text": [
            "rata-rata Cleanliness 3.2863508623344626\n"
          ],
          "name": "stdout"
        }
      ]
    },
    {
      "cell_type": "code",
      "metadata": {
        "id": "XMn08QF9XQP7",
        "colab_type": "code",
        "colab": {
          "base_uri": "https://localhost:8080/",
          "height": 52
        },
        "outputId": "fb71d0f7-b4a9-44d6-e275-b108b5a29b55"
      },
      "source": [
        "print(\"Jumlah total penumpang dengan kolom Age kosong(null):\")\n",
        "train_df.where(col(\"Age\").isNull()).count()"
      ],
      "execution_count": 90,
      "outputs": [
        {
          "output_type": "stream",
          "text": [
            "Jumlah total penumpang dengan kolom Age kosong(null):\n"
          ],
          "name": "stdout"
        },
        {
          "output_type": "execute_result",
          "data": {
            "text/plain": [
              "0"
            ]
          },
          "metadata": {
            "tags": []
          },
          "execution_count": 90
        }
      ]
    },
    {
      "cell_type": "code",
      "metadata": {
        "id": "67elASfLXZ9c",
        "colab_type": "code",
        "colab": {
          "base_uri": "https://localhost:8080/",
          "height": 191
        },
        "outputId": "044f1c38-eafb-4b4f-d1a6-a358c9400d3f"
      },
      "source": [
        "train_df.select('Age').describe().show()"
      ],
      "execution_count": null,
      "outputs": [
        {
          "output_type": "stream",
          "text": [
            "+-------+------------------+\n",
            "|summary|               Age|\n",
            "+-------+------------------+\n",
            "|  count|            103904|\n",
            "|   mean|39.379706267323684|\n",
            "| stddev|15.114963699737805|\n",
            "|    min|                 7|\n",
            "|    max|                85|\n",
            "+-------+------------------+\n",
            "\n"
          ],
          "name": "stdout"
        }
      ]
    },
    {
      "cell_type": "code",
      "metadata": {
        "id": "mcbeocEjXiLH",
        "colab_type": "code",
        "colab": {}
      },
      "source": [
        "train_df.coalesce(1).write.csv(\"train2_processed\", header=True)"
      ],
      "execution_count": 92,
      "outputs": []
    },
    {
      "cell_type": "code",
      "metadata": {
        "id": "Tj0hNUYzXqRQ",
        "colab_type": "code",
        "colab": {}
      },
      "source": [
        "spark.stop()    #digunakan untuk menghentikan SparkSession"
      ],
      "execution_count": 93,
      "outputs": []
    }
  ]
}