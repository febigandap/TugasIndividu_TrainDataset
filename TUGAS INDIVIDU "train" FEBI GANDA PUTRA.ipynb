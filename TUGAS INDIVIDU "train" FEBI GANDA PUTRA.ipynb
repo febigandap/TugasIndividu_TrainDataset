https://colab.research.google.com/drive/19bfv6uWuW6y0tqWAFofbVUk21aK1kK16#scrollTo=ZHRV_CLHHbNo
