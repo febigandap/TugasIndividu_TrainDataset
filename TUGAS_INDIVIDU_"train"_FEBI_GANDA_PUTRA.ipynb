{
  "nbformat": 4,
  "nbformat_minor": 0,
  "metadata": {
    "colab": {
      "name": "TUGAS INDIVIDU \"train\" FEBI GANDA PUTRA.ipynb",
      "provenance": [],
      "authorship_tag": "ABX9TyPqYVibnflssTscnTVtMi6M",
      "include_colab_link": true
    },
    "kernelspec": {
      "name": "python3",
      "display_name": "Python 3"
    }
  },
  "cells": [
    {
      "cell_type": "markdown",
      "metadata": {
        "id": "view-in-github",
        "colab_type": "text"
      },
      "source": [
        "<a href=\"https://colab.research.google.com/github/febigandap/TugasIndividu_TrainDataset/blob/master/TUGAS_INDIVIDU_%22train%22_FEBI_GANDA_PUTRA.ipynb\" target=\"_parent\"><img src=\"https://colab.research.google.com/assets/colab-badge.svg\" alt=\"Open In Colab\"/></a>"
      ]
    },
    {
      "cell_type": "code",
      "metadata": {
        "id": "ZHRV_CLHHbNo",
        "colab_type": "code",
        "colab": {}
      },
      "source": [
        ""
      ],
      "execution_count": null,
      "outputs": []
    },
    {
      "cell_type": "markdown",
      "metadata": {
        "id": "Vcr6yffoHRMM",
        "colab_type": "text"
      },
      "source": [
        "**INSTALASI SPARK PADA GOOGLE COLAB**"
      ]
    },
    {
      "cell_type": "code",
      "metadata": {
        "id": "8QZr-axJGwzO",
        "colab_type": "code",
        "colab": {}
      },
      "source": [
        "!apt-get install openjdk-8-jdk-headless -qq > /dev/null\n",
        "!wget -q http://www-eu.apache.org/dist/spark/spark-2.4.5/spark-2.4.5-bin-hadoop2.7.tgz\n",
        "!tar xf spark-2.4.5-bin-hadoop2.7.tgz\n",
        "!pip install -q findspark"
      ],
      "execution_count": 1,
      "outputs": []
    },
    {
      "cell_type": "code",
      "metadata": {
        "id": "0wPd4ebgH5H4",
        "colab_type": "code",
        "colab": {}
      },
      "source": [
        "import os\n",
        "os.environ[\"JAVA_HOME\"] = \"/usr/lib/jvm/java-8-openjdk-amd64\"\n",
        "os.environ[\"SPARK_HOME\"] = \"/content/spark-2.4.5-bin-hadoop2.7\""
      ],
      "execution_count": 22,
      "outputs": []
    },
    {
      "cell_type": "code",
      "metadata": {
        "id": "okx-Pj6VU8K7",
        "colab_type": "code",
        "colab": {}
      },
      "source": [
        ""
      ],
      "execution_count": null,
      "outputs": []
    },
    {
      "cell_type": "markdown",
      "metadata": {
        "id": "PdvgF5ZsIK0S",
        "colab_type": "text"
      },
      "source": [
        "**IMPORT LIBRARY SPARK YANG SUDAH DIINSTALL**"
      ]
    },
    {
      "cell_type": "code",
      "metadata": {
        "id": "U3eNS1GlIWCc",
        "colab_type": "code",
        "colab": {}
      },
      "source": [
        "import findspark\n",
        "findspark.init(\"spark-2.4.5-bin-hadoop2.7\")# SPARK_HOME\n",
        "from pyspark.sql import SparkSession\n",
        "spark = SparkSession.builder.master(\"local[*]\").getOrCreate()\n",
        "from pyspark.sql.functions import col, avg"
      ],
      "execution_count": 4,
      "outputs": []
    },
    {
      "cell_type": "code",
      "metadata": {
        "id": "VODNLiEfIjM9",
        "colab_type": "code",
        "colab": {}
      },
      "source": [
        "!pip install -q pyspark_dist_explore"
      ],
      "execution_count": 5,
      "outputs": []
    },
    {
      "cell_type": "code",
      "metadata": {
        "id": "227fil6VIpDc",
        "colab_type": "code",
        "colab": {}
      },
      "source": [
        "import matplotlib.pyplot as plt\n",
        "from pyspark_dist_explore import Histogram, hist\n"
      ],
      "execution_count": 6,
      "outputs": []
    },
    {
      "cell_type": "markdown",
      "metadata": {
        "id": "ZU8e08UHI7PE",
        "colab_type": "text"
      },
      "source": [
        "**INISIALISASI SPARK CONTEXT DAN SPARK SESSION**"
      ]
    },
    {
      "cell_type": "code",
      "metadata": {
        "id": "WsApRvZFJBdo",
        "colab_type": "code",
        "colab": {}
      },
      "source": [
        "sc = spark.sparkContext\n",
        "spark = SparkSession(sc)"
      ],
      "execution_count": 7,
      "outputs": []
    },
    {
      "cell_type": "markdown",
      "metadata": {
        "id": "1g_szcqJJPrq",
        "colab_type": "text"
      },
      "source": [
        "**LOAD DATASET**"
      ]
    },
    {
      "cell_type": "code",
      "metadata": {
        "id": "AOZ8hmNCJSdB",
        "colab_type": "code",
        "colab": {
          "base_uri": "https://localhost:8080/",
          "height": 485
        },
        "outputId": "4598ef7d-c36d-4100-9508-3e97592061ca"
      },
      "source": [
        "train_df = spark.read.csv(\"Train.csv\", header=True, inferSchema=True)\n",
        "train_df.printSchema()            #mengecek schema dari dataset"
      ],
      "execution_count": 23,
      "outputs": [
        {
          "output_type": "stream",
          "text": [
            "root\n",
            " |-- _c0: integer (nullable = true)\n",
            " |-- id: integer (nullable = true)\n",
            " |-- Gender: string (nullable = true)\n",
            " |-- Customer Type: string (nullable = true)\n",
            " |-- Age: integer (nullable = true)\n",
            " |-- Type of Travel: string (nullable = true)\n",
            " |-- Class: string (nullable = true)\n",
            " |-- Flight Distance: integer (nullable = true)\n",
            " |-- Inflight wifi service: integer (nullable = true)\n",
            " |-- Departure/Arrival time convenient: integer (nullable = true)\n",
            " |-- Ease of Online booking: integer (nullable = true)\n",
            " |-- Gate location: integer (nullable = true)\n",
            " |-- Food and drink: integer (nullable = true)\n",
            " |-- Online boarding: integer (nullable = true)\n",
            " |-- Seat comfort: integer (nullable = true)\n",
            " |-- Inflight entertainment: integer (nullable = true)\n",
            " |-- On-board service: integer (nullable = true)\n",
            " |-- Leg room service: integer (nullable = true)\n",
            " |-- Baggage handling: integer (nullable = true)\n",
            " |-- Checkin service: integer (nullable = true)\n",
            " |-- Inflight service: integer (nullable = true)\n",
            " |-- Cleanliness: integer (nullable = true)\n",
            " |-- Departure Delay in Minutes: integer (nullable = true)\n",
            " |-- Arrival Delay in Minutes: double (nullable = true)\n",
            " |-- satisfaction: string (nullable = true)\n",
            "\n"
          ],
          "name": "stdout"
        }
      ]
    },
    {
      "cell_type": "markdown",
      "metadata": {
        "id": "ce2RtXJKPWep",
        "colab_type": "text"
      },
      "source": [
        "**PROSES EDA**"
      ]
    },
    {
      "cell_type": "code",
      "metadata": {
        "id": "6Anyy-IsPZN0",
        "colab_type": "code",
        "colab": {
          "base_uri": "https://localhost:8080/",
          "height": 52
        },
        "outputId": "20255677-ee54-4bc8-f159-545332777fb2"
      },
      "source": [
        "print(\"Jumlah total penumpang kereta:\")\n",
        "train_df.count()"
      ],
      "execution_count": 24,
      "outputs": [
        {
          "output_type": "stream",
          "text": [
            "Jumlah total penumpang kereta:\n"
          ],
          "name": "stdout"
        },
        {
          "output_type": "execute_result",
          "data": {
            "text/plain": [
              "103904"
            ]
          },
          "metadata": {
            "tags": []
          },
          "execution_count": 24
        }
      ]
    },
    {
      "cell_type": "code",
      "metadata": {
        "id": "QCobUxTYP0Da",
        "colab_type": "code",
        "colab": {
          "base_uri": "https://localhost:8080/",
          "height": 173
        },
        "outputId": "cc452d5a-76ef-4362-fc83-27dea54bd4f5"
      },
      "source": [
        "print(\"Jumlah penumpang pada masing-masing Class Kereta : \")\n",
        "train_df.groupby(\"class\").count().show()"
      ],
      "execution_count": 35,
      "outputs": [
        {
          "output_type": "stream",
          "text": [
            "Jumlah penumpang pada masing-masing Class Kereta : \n",
            "+--------+-----+\n",
            "|   class|count|\n",
            "+--------+-----+\n",
            "|Eco Plus| 7494|\n",
            "|Business|49665|\n",
            "|     Eco|46745|\n",
            "+--------+-----+\n",
            "\n"
          ],
          "name": "stdout"
        }
      ]
    },
    {
      "cell_type": "code",
      "metadata": {
        "id": "Ib8x2pqNQE7_",
        "colab_type": "code",
        "colab": {
          "base_uri": "https://localhost:8080/",
          "height": 191
        },
        "outputId": "5c2edfb6-acf1-46c6-e083-e135ae0479ad"
      },
      "source": [
        "train_df.select('Age').describe().show()"
      ],
      "execution_count": 36,
      "outputs": [
        {
          "output_type": "stream",
          "text": [
            "+-------+------------------+\n",
            "|summary|               Age|\n",
            "+-------+------------------+\n",
            "|  count|            103904|\n",
            "|   mean|39.379706267323684|\n",
            "| stddev|15.114963699737805|\n",
            "|    min|                 7|\n",
            "|    max|                85|\n",
            "+-------+------------------+\n",
            "\n"
          ],
          "name": "stdout"
        }
      ]
    },
    {
      "cell_type": "code",
      "metadata": {
        "id": "xjo5HtwrS3zy",
        "colab_type": "code",
        "colab": {
          "base_uri": "https://localhost:8080/",
          "height": 320
        },
        "outputId": "0a17da58-62a1-4d15-d035-01885ec3e5ef"
      },
      "source": [
        "train_df_age = train_df.select('Age')\n",
        "\n",
        "fig, axes = plt.subplots()\n",
        "fig.set_size_inches(5, 5)\n",
        "hist(axes, train_df_age, bins=20, color=\"blue\")\n",
        "plt.show()"
      ],
      "execution_count": 38,
      "outputs": [
        {
          "output_type": "display_data",
          "data": {
            "image/png": "[encoded data removed]",
            "text/plain": [
              "<Figure size 360x360 with 1 Axes>"
            ]
          },
          "metadata": {
            "tags": [],
            "needs_background": "light"
          }
        }
      ]
    }
  ]
}