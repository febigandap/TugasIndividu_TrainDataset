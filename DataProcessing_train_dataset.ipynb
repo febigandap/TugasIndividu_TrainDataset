{
  "nbformat": 4,
  "nbformat_minor": 0,
  "metadata": {
    "colab": {
      "name": "DataProcessing_train_dataset.ipynb",
      "provenance": [],
      "authorship_tag": "ABX9TyOBtR5bzHiA2+qeh3J9WDHE",
      "include_colab_link": true
    },
    "kernelspec": {
      "name": "python3",
      "display_name": "Python 3"
    }
  },
  "cells": [
    {
      "cell_type": "markdown",
      "metadata": {
        "id": "view-in-github",
        "colab_type": "text"
      },
      "source": [
        "<a href=\"https://colab.research.google.com/github/febigandap/TugasIndividu_TrainDataset/blob/master/DataProcessing_train_dataset.ipynb\" target=\"_parent\"><img src=\"https://colab.research.google.com/assets/colab-badge.svg\" alt=\"Open In Colab\"/></a>"
      ]
    },
    {
      "cell_type": "markdown",
      "metadata": {
        "id": "xmx4d0JJlUUc",
        "colab_type": "text"
      },
      "source": [
        "**Pemrosesan data menggunakan RRD pada dataset Train**"
      ]
    },
    {
      "cell_type": "markdown",
      "metadata": {
        "id": "fXv_nbj0lcj8",
        "colab_type": "text"
      },
      "source": [
        "**1. Instalasi Spark pada Google Colab**"
      ]
    },
    {
      "cell_type": "code",
      "metadata": {
        "id": "VMhDmjGclrPb",
        "colab_type": "code",
        "colab": {}
      },
      "source": [
        "!apt-get install openjdk-8-jdk-headless -qq > /dev/null\n",
        "!wget -q http://www-eu.apache.org/dist/spark/spark-2.4.5/spark-2.4.5-bin-hadoop2.7.tgz\n",
        "!tar xf spark-2.4.5-bin-hadoop2.7.tgz\n",
        "!pip install -q findspark"
      ],
      "execution_count": 1,
      "outputs": []
    },
    {
      "cell_type": "code",
      "metadata": {
        "id": "sSVh2jmml1RU",
        "colab_type": "code",
        "colab": {}
      },
      "source": [
        "import os\n",
        "os.environ[\"JAVA_HOME\"] = \"/usr/lib/jvm/java-8-openjdk-amd64\"\n",
        "os.environ[\"SPARK_HOME\"] = \"/content/spark-2.4.5-bin-hadoop2.7\""
      ],
      "execution_count": 2,
      "outputs": []
    },
    {
      "cell_type": "markdown",
      "metadata": {
        "id": "n421t96yl4Lc",
        "colab_type": "text"
      },
      "source": [
        "**2. Import library Spark yang sudah diinstal**"
      ]
    },
    {
      "cell_type": "code",
      "metadata": {
        "id": "ilbmFxJJmAnY",
        "colab_type": "code",
        "colab": {}
      },
      "source": [
        "import findspark\n",
        "findspark.init(\"spark-2.4.5-bin-hadoop2.7\")# SPARK_HOME\n",
        "from pyspark.sql import SparkSession\n",
        "spark = SparkSession.builder.master(\"local[*]\").getOrCreate()\n",
        "from pyspark.sql.functions import col, avg"
      ],
      "execution_count": 3,
      "outputs": []
    },
    {
      "cell_type": "markdown",
      "metadata": {
        "id": "ARjzFiYhmHRa",
        "colab_type": "text"
      },
      "source": [
        "**3. Inisialisasi SparkContext dan SparkSession**"
      ]
    },
    {
      "cell_type": "code",
      "metadata": {
        "id": "dPa8XlAAmGyK",
        "colab_type": "code",
        "colab": {}
      },
      "source": [
        "sc = spark.sparkContext\n",
        "spark = SparkSession(sc)"
      ],
      "execution_count": 4,
      "outputs": []
    },
    {
      "cell_type": "markdown",
      "metadata": {
        "id": "MQ800BoImSwV",
        "colab_type": "text"
      },
      "source": [
        "**4. Load Dataset**"
      ]
    },
    {
      "cell_type": "code",
      "metadata": {
        "id": "YpFcOc9jnlzL",
        "colab_type": "code",
        "colab": {
          "base_uri": "https://localhost:8080/",
          "height": 485
        },
        "outputId": "3ee2dfe2-e36b-4418-8c89-5dd6fe31d256"
      },
      "source": [
        "train_df = spark.read.csv(\"Train.csv\", header=True, inferSchema=True)\n",
        "train_df.printSchema()            #mengecek schema dari dataset\n"
      ],
      "execution_count": 5,
      "outputs": [
        {
          "output_type": "stream",
          "text": [
            "root\n",
            " |-- _c0: integer (nullable = true)\n",
            " |-- id: integer (nullable = true)\n",
            " |-- Gender: string (nullable = true)\n",
            " |-- Customer Type: string (nullable = true)\n",
            " |-- Age: integer (nullable = true)\n",
            " |-- Type of Travel: string (nullable = true)\n",
            " |-- Class: string (nullable = true)\n",
            " |-- Flight Distance: integer (nullable = true)\n",
            " |-- Inflight wifi service: integer (nullable = true)\n",
            " |-- Departure/Arrival time convenient: integer (nullable = true)\n",
            " |-- Ease of Online booking: integer (nullable = true)\n",
            " |-- Gate location: integer (nullable = true)\n",
            " |-- Food and drink: integer (nullable = true)\n",
            " |-- Online boarding: integer (nullable = true)\n",
            " |-- Seat comfort: integer (nullable = true)\n",
            " |-- Inflight entertainment: integer (nullable = true)\n",
            " |-- On-board service: integer (nullable = true)\n",
            " |-- Leg room service: integer (nullable = true)\n",
            " |-- Baggage handling: integer (nullable = true)\n",
            " |-- Checkin service: integer (nullable = true)\n",
            " |-- Inflight service: integer (nullable = true)\n",
            " |-- Cleanliness: integer (nullable = true)\n",
            " |-- Departure Delay in Minutes: integer (nullable = true)\n",
            " |-- Arrival Delay in Minutes: double (nullable = true)\n",
            " |-- satisfaction: string (nullable = true)\n",
            "\n"
          ],
          "name": "stdout"
        }
      ]
    },
    {
      "cell_type": "code",
      "metadata": {
        "id": "4_nQfOzXsCnY",
        "colab_type": "code",
        "colab": {
          "base_uri": "https://localhost:8080/",
          "height": 228
        },
        "outputId": "b22ebb7f-9ee8-4f8d-feb8-b96e42eb35ee"
      },
      "source": [
        "train_df.show(5)"
      ],
      "execution_count": 6,
      "outputs": [
        {
          "output_type": "stream",
          "text": [
            "+---+------+------+-----------------+---+---------------+--------+---------------+---------------------+---------------------------------+----------------------+-------------+--------------+---------------+------------+----------------------+----------------+----------------+----------------+---------------+----------------+-----------+--------------------------+------------------------+--------------------+\n",
            "|_c0|    id|Gender|    Customer Type|Age| Type of Travel|   Class|Flight Distance|Inflight wifi service|Departure/Arrival time convenient|Ease of Online booking|Gate location|Food and drink|Online boarding|Seat comfort|Inflight entertainment|On-board service|Leg room service|Baggage handling|Checkin service|Inflight service|Cleanliness|Departure Delay in Minutes|Arrival Delay in Minutes|        satisfaction|\n",
            "+---+------+------+-----------------+---+---------------+--------+---------------+---------------------+---------------------------------+----------------------+-------------+--------------+---------------+------------+----------------------+----------------+----------------+----------------+---------------+----------------+-----------+--------------------------+------------------------+--------------------+\n",
            "|  0| 70172|  Male|   Loyal Customer| 13|Personal Travel|Eco Plus|            460|                    3|                                4|                     3|            1|             5|              3|           5|                     5|               4|               3|               4|              4|               5|          5|                        25|                    18.0|neutral or dissat...|\n",
            "|  1|  5047|  Male|disloyal Customer| 25|Business travel|Business|            235|                    3|                                2|                     3|            3|             1|              3|           1|                     1|               1|               5|               3|              1|               4|          1|                         1|                     6.0|neutral or dissat...|\n",
            "|  2|110028|Female|   Loyal Customer| 26|Business travel|Business|           1142|                    2|                                2|                     2|            2|             5|              5|           5|                     5|               4|               3|               4|              4|               4|          5|                         0|                     0.0|           satisfied|\n",
            "|  3| 24026|Female|   Loyal Customer| 25|Business travel|Business|            562|                    2|                                5|                     5|            5|             2|              2|           2|                     2|               2|               5|               3|              1|               4|          2|                        11|                     9.0|neutral or dissat...|\n",
            "|  4|119299|  Male|   Loyal Customer| 61|Business travel|Business|            214|                    3|                                3|                     3|            3|             4|              5|           5|                     3|               3|               4|               4|              3|               3|          3|                         0|                     0.0|           satisfied|\n",
            "+---+------+------+-----------------+---+---------------+--------+---------------+---------------------+---------------------------------+----------------------+-------------+--------------+---------------+------------+----------------------+----------------+----------------+----------------+---------------+----------------+-----------+--------------------------+------------------------+--------------------+\n",
            "only showing top 5 rows\n",
            "\n"
          ],
          "name": "stdout"
        }
      ]
    },
    {
      "cell_type": "markdown",
      "metadata": {
        "id": "8-ExEoh4tYq8",
        "colab_type": "text"
      },
      "source": [
        "**5. Pemrosesan Data**"
      ]
    },
    {
      "cell_type": "markdown",
      "metadata": {
        "id": "01oiwxUjthLv",
        "colab_type": "text"
      },
      "source": [
        "**5.1 Pemrosesan Menggunakan Transformasi dan Action pada DataFrame**\n",
        "\n",
        "Menghitung jumlah penumpang kereta pada masing-masing “class” dengan parameter “gender”, dan “satisfaction” penumpang.\n",
        "\n",
        "Langkahnya adalah:\n",
        "\n",
        "Melakukan perhitungan jumlah penumpang. Perhitungan dilakukan dengan melakukan grouping berdasarkan jenis kelamin dan tingkat kepuasan penumpang kereta kemudian dihitung jumlah penumpang untuk masing-masing class nya. Proses ini dapat digabung menjadi satu baris kode (lihat di bawah)"
      ]
    },
    {
      "cell_type": "code",
      "metadata": {
        "id": "MzsAyrIJt6ZP",
        "colab_type": "code",
        "colab": {
          "base_uri": "https://localhost:8080/",
          "height": 312
        },
        "outputId": "8a13c2ae-274a-480a-d980-4b938a7790ad"
      },
      "source": [
        "train_df.groupby(\"class\", \"gender\", \"satisfaction\").count().show()"
      ],
      "execution_count": 7,
      "outputs": [
        {
          "output_type": "stream",
          "text": [
            "+--------+------+--------------------+-----+\n",
            "|   class|gender|        satisfaction|count|\n",
            "+--------+------+--------------------+-----+\n",
            "|     Eco|Female|neutral or dissat...|19471|\n",
            "|Business|  Male|neutral or dissat...| 7475|\n",
            "|     Eco|  Male|neutral or dissat...|18573|\n",
            "|     Eco|Female|           satisfied| 4387|\n",
            "|Business|Female|neutral or dissat...| 7710|\n",
            "|Business|  Male|           satisfied|17263|\n",
            "|     Eco|  Male|           satisfied| 4314|\n",
            "|Eco Plus|  Male|           satisfied|  914|\n",
            "|Eco Plus|  Male|neutral or dissat...| 2638|\n",
            "|Eco Plus|Female|           satisfied|  930|\n",
            "|Eco Plus|Female|neutral or dissat...| 3012|\n",
            "|Business|Female|           satisfied|17217|\n",
            "+--------+------+--------------------+-----+\n",
            "\n"
          ],
          "name": "stdout"
        }
      ]
    },
    {
      "cell_type": "markdown",
      "metadata": {
        "id": "03FtFK_hue7b",
        "colab_type": "text"
      },
      "source": [
        "**5.2 Pemrosesan Menggunakan SparkSQL**"
      ]
    },
    {
      "cell_type": "markdown",
      "metadata": {
        "id": "GFK0H3J6uovH",
        "colab_type": "text"
      },
      "source": [
        "\"Menghitung jumlah penumpang kereta pada masing-masing “class” dengan parameter “gender”, dan “satisfaction” penumpang.\" dapat dikerjakan menggunakan beberapa cara, menggunakan fungsi transformations dan actions pada RDD yang telah dikerjakan di 5.1 atau menggunakan DataFrame dan SparkSQL."
      ]
    },
    {
      "cell_type": "code",
      "metadata": {
        "id": "vBFfXOqluita",
        "colab_type": "code",
        "colab": {
          "base_uri": "https://localhost:8080/",
          "height": 312
        },
        "outputId": "92a8d2d4-e531-4b79-a6ad-9e69327b814e"
      },
      "source": [
        "#menggunakan PySparkSQL untuk mencari jumlah penumpang berdasarkan gender dan satisfaction pada setiap class\n",
        "df_result = spark.sql(\"SELECT Class, Gender, Satisfaction FROM Train\")\n",
        "df_result.groupby(\"Class\", \"Gender\", \"Satisfaction\").count().show()"
      ],
      "execution_count": 12,
      "outputs": [
        {
          "output_type": "stream",
          "text": [
            "+--------+------+--------------------+-----+\n",
            "|   Class|Gender|        Satisfaction|count|\n",
            "+--------+------+--------------------+-----+\n",
            "|     Eco|Female|neutral or dissat...|19471|\n",
            "|Business|  Male|neutral or dissat...| 7475|\n",
            "|     Eco|  Male|neutral or dissat...|18573|\n",
            "|     Eco|Female|           satisfied| 4387|\n",
            "|Business|Female|neutral or dissat...| 7710|\n",
            "|Business|  Male|           satisfied|17263|\n",
            "|     Eco|  Male|           satisfied| 4314|\n",
            "|Eco Plus|  Male|           satisfied|  914|\n",
            "|Eco Plus|  Male|neutral or dissat...| 2638|\n",
            "|Eco Plus|Female|           satisfied|  930|\n",
            "|Eco Plus|Female|neutral or dissat...| 3012|\n",
            "|Business|Female|           satisfied|17217|\n",
            "+--------+------+--------------------+-----+\n",
            "\n"
          ],
          "name": "stdout"
        }
      ]
    },
    {
      "cell_type": "markdown",
      "metadata": {
        "id": "3ZgjrQ0C22Ze",
        "colab_type": "text"
      },
      "source": [
        "hasil menggunakan transformations dan actions pada langkah 5.1 sama dengan hasil menggunakan PySparkSQL pada langkah 5.2"
      ]
    },
    {
      "cell_type": "markdown",
      "metadata": {
        "id": "KfR0T4YYz866",
        "colab_type": "text"
      },
      "source": [
        "**BEBERAPA MODIFIKASI PROSES DATA YANG DAPAT KITA LAKUKAN UNTUK MEMPEROLEH INFORMASI LEBIH RINCI LAGI**"
      ]
    },
    {
      "cell_type": "markdown",
      "metadata": {
        "id": "-uRyINROzkZJ",
        "colab_type": "text"
      },
      "source": [
        "Menampilkan 10 data Satisfaction penumpang berjenis kelamin pria pada class Economy"
      ]
    },
    {
      "cell_type": "code",
      "metadata": {
        "id": "UNPQnuHRx06W",
        "colab_type": "code",
        "colab": {
          "base_uri": "https://localhost:8080/",
          "height": 295
        },
        "outputId": "a823f0ed-056c-445f-f37b-76b1b6d00715"
      },
      "source": [
        "df_result = spark.sql(\"SELECT Class, Gender, Satisfaction FROM Train WHERE Class ='Eco' and gender = 'Male'\")\n",
        "df_result.show(10)"
      ],
      "execution_count": 19,
      "outputs": [
        {
          "output_type": "stream",
          "text": [
            "+-----+------+--------------------+\n",
            "|Class|Gender|        Satisfaction|\n",
            "+-----+------+--------------------+\n",
            "|  Eco|  Male|neutral or dissat...|\n",
            "|  Eco|  Male|neutral or dissat...|\n",
            "|  Eco|  Male|neutral or dissat...|\n",
            "|  Eco|  Male|           satisfied|\n",
            "|  Eco|  Male|neutral or dissat...|\n",
            "|  Eco|  Male|neutral or dissat...|\n",
            "|  Eco|  Male|neutral or dissat...|\n",
            "|  Eco|  Male|neutral or dissat...|\n",
            "|  Eco|  Male|neutral or dissat...|\n",
            "|  Eco|  Male|neutral or dissat...|\n",
            "+-----+------+--------------------+\n",
            "only showing top 10 rows\n",
            "\n"
          ],
          "name": "stdout"
        }
      ]
    },
    {
      "cell_type": "markdown",
      "metadata": {
        "id": "JXQ4gaCAzUBN",
        "colab_type": "text"
      },
      "source": [
        "Menampilkan 10 data penumpang berjenis kelamin pria dengan tingkat kepuasan \"satisfied\" pada class Business."
      ]
    },
    {
      "cell_type": "code",
      "metadata": {
        "id": "30YDyb9XyuI8",
        "colab_type": "code",
        "colab": {
          "base_uri": "https://localhost:8080/",
          "height": 295
        },
        "outputId": "21a2054e-a4f4-403c-95c1-c04c2788c9c2"
      },
      "source": [
        "df_result = spark.sql(\"SELECT Class, Gender, Satisfaction FROM Train WHERE Class ='Business' and gender = 'Male' and Satisfaction = 'satisfied'\")\n",
        "df_result.show(10)"
      ],
      "execution_count": 36,
      "outputs": [
        {
          "output_type": "stream",
          "text": [
            "+--------+------+------------+\n",
            "|   Class|Gender|Satisfaction|\n",
            "+--------+------+------------+\n",
            "|Business|  Male|   satisfied|\n",
            "|Business|  Male|   satisfied|\n",
            "|Business|  Male|   satisfied|\n",
            "|Business|  Male|   satisfied|\n",
            "|Business|  Male|   satisfied|\n",
            "|Business|  Male|   satisfied|\n",
            "|Business|  Male|   satisfied|\n",
            "|Business|  Male|   satisfied|\n",
            "|Business|  Male|   satisfied|\n",
            "|Business|  Male|   satisfied|\n",
            "+--------+------+------------+\n",
            "only showing top 10 rows\n",
            "\n"
          ],
          "name": "stdout"
        }
      ]
    },
    {
      "cell_type": "markdown",
      "metadata": {
        "id": "8HDjAoA81BsC",
        "colab_type": "text"
      },
      "source": [
        "Menampilkan 10 data class penumpang dengan jenis kelamin wanita dan satisfaction neutral or dissatisfied."
      ]
    },
    {
      "cell_type": "code",
      "metadata": {
        "id": "TW2rNdDx0MNR",
        "colab_type": "code",
        "colab": {
          "base_uri": "https://localhost:8080/",
          "height": 295
        },
        "outputId": "2ce08e47-adf9-4809-8501-f0dade56161a"
      },
      "source": [
        "df_result = spark.sql(\"SELECT Class, Gender, Satisfaction FROM Train WHERE gender = 'Female' and Satisfaction = 'neutral or dissatisfied'\")\n",
        "df_result.show(10)"
      ],
      "execution_count": 33,
      "outputs": [
        {
          "output_type": "stream",
          "text": [
            "+--------+------+--------------------+\n",
            "|   Class|Gender|        Satisfaction|\n",
            "+--------+------+--------------------+\n",
            "|Business|Female|neutral or dissat...|\n",
            "|     Eco|Female|neutral or dissat...|\n",
            "|Business|Female|neutral or dissat...|\n",
            "|     Eco|Female|neutral or dissat...|\n",
            "|Eco Plus|Female|neutral or dissat...|\n",
            "|     Eco|Female|neutral or dissat...|\n",
            "|     Eco|Female|neutral or dissat...|\n",
            "|     Eco|Female|neutral or dissat...|\n",
            "|     Eco|Female|neutral or dissat...|\n",
            "|Business|Female|neutral or dissat...|\n",
            "+--------+------+--------------------+\n",
            "only showing top 10 rows\n",
            "\n"
          ],
          "name": "stdout"
        }
      ]
    },
    {
      "cell_type": "markdown",
      "metadata": {
        "id": "BpSimKNA2HFk",
        "colab_type": "text"
      },
      "source": [
        "Menampilkan 10 data satisfaction penumpang wanita pada class Eco"
      ]
    },
    {
      "cell_type": "code",
      "metadata": {
        "id": "Xm3eorZB17m_",
        "colab_type": "code",
        "colab": {
          "base_uri": "https://localhost:8080/",
          "height": 295
        },
        "outputId": "6b57ac9a-9fd6-4b51-d3fb-824d0c8cf689"
      },
      "source": [
        "df_result = spark.sql(\"SELECT Class, Gender, Satisfaction FROM Train WHERE gender = 'Female' and Class = 'Eco'\")\n",
        "df_result.show(10)"
      ],
      "execution_count": 37,
      "outputs": [
        {
          "output_type": "stream",
          "text": [
            "+-----+------+--------------------+\n",
            "|Class|Gender|        Satisfaction|\n",
            "+-----+------+--------------------+\n",
            "|  Eco|Female|neutral or dissat...|\n",
            "|  Eco|Female|neutral or dissat...|\n",
            "|  Eco|Female|neutral or dissat...|\n",
            "|  Eco|Female|neutral or dissat...|\n",
            "|  Eco|Female|neutral or dissat...|\n",
            "|  Eco|Female|neutral or dissat...|\n",
            "|  Eco|Female|           satisfied|\n",
            "|  Eco|Female|neutral or dissat...|\n",
            "|  Eco|Female|neutral or dissat...|\n",
            "|  Eco|Female|neutral or dissat...|\n",
            "+-----+------+--------------------+\n",
            "only showing top 10 rows\n",
            "\n"
          ],
          "name": "stdout"
        }
      ]
    },
    {
      "cell_type": "code",
      "metadata": {
        "id": "wpzvOhRZ29f7",
        "colab_type": "code",
        "colab": {}
      },
      "source": [
        "spark.stop()    #digunakan untuk menghentikan SparkSession"
      ],
      "execution_count": 38,
      "outputs": []
    }
  ]
}