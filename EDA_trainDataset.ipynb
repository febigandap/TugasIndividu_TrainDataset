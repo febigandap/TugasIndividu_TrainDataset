{
  "nbformat": 4,
  "nbformat_minor": 0,
  "metadata": {
    "colab": {
      "name": "EDA_trainDataset.ipynb",
      "provenance": [],
      "authorship_tag": "ABX9TyNWGTY924q7/brCkQNAKqZw",
      "include_colab_link": true
    },
    "kernelspec": {
      "name": "python3",
      "display_name": "Python 3"
    }
  },
  "cells": [
    {
      "cell_type": "markdown",
      "metadata": {
        "id": "view-in-github",
        "colab_type": "text"
      },
      "source": [
        "<a href=\"https://colab.research.google.com/github/febigandap/TugasIndividu_TrainDataset/blob/master/EDA_trainDataset.ipynb\" target=\"_parent\"><img src=\"https://colab.research.google.com/assets/colab-badge.svg\" alt=\"Open In Colab\"/></a>"
      ]
    },
    {
      "cell_type": "markdown",
      "metadata": {
        "id": "kwBycBnOD8YO",
        "colab_type": "text"
      },
      "source": [
        "\n",
        "**PERTANYAAN YANG AKAN DI JAWAB PADA PROSES INI ADALAH :**\n",
        "\n",
        "Menghitung jumlah penumpang kereta pada masing-masing “class” dengan parameter “gender”, dan “satisfaction” penumpang. "
      ]
    },
    {
      "cell_type": "markdown",
      "metadata": {
        "id": "ypVSIRmSEI7c",
        "colab_type": "text"
      },
      "source": [
        "**1. INSTALASI SPARK PADA GOOGLE COLAB**"
      ]
    },
    {
      "cell_type": "code",
      "metadata": {
        "id": "KvNYVgYc99Aa",
        "colab_type": "code",
        "colab": {}
      },
      "source": [
        "!apt-get install openjdk-8-jdk-headless -qq > /dev/null\n",
        "!wget -q http://www-eu.apache.org/dist/spark/spark-3.0.0/spark-3.0.0-bin-hadoop2.7.tgz\n",
        "!tar xf spark-3.0.0-bin-hadoop2.7.tgz\n",
        "!pip install -q findspark"
      ],
      "execution_count": 1,
      "outputs": []
    },
    {
      "cell_type": "code",
      "metadata": {
        "id": "OugOhjIP-i6G",
        "colab_type": "code",
        "colab": {}
      },
      "source": [
        "import os\n",
        "os.environ[\"JAVA_HOME\"] = \"/usr/lib/jvm/java-8-openjdk-amd64\"\n",
        "os.environ[\"SPARK_HOME\"] = \"/content/spark-3.0.0-bin-hadoop2.7\""
      ],
      "execution_count": 2,
      "outputs": []
    },
    {
      "cell_type": "markdown",
      "metadata": {
        "id": "Jf-fMPFwEORx",
        "colab_type": "text"
      },
      "source": [
        "**2. IMPORT LIBRARY SPARK YANG SUDAH DIINSTALL**"
      ]
    },
    {
      "cell_type": "code",
      "metadata": {
        "id": "M0FjruJG-qaQ",
        "colab_type": "code",
        "colab": {}
      },
      "source": [
        "import findspark\n",
        "findspark.init(\"spark-3.0.0-bin-hadoop2.7\")# SPARK_HOME\n",
        "from pyspark.sql import SparkSession\n",
        "spark = SparkSession.builder.master(\"local[*]\").getOrCreate()\n",
        "from pyspark.sql.functions import col, avg"
      ],
      "execution_count": 3,
      "outputs": []
    },
    {
      "cell_type": "code",
      "metadata": {
        "id": "xnT8FG-Z-2G4",
        "colab_type": "code",
        "colab": {}
      },
      "source": [
        "!pip install -q pyspark_dist_explore"
      ],
      "execution_count": 4,
      "outputs": []
    },
    {
      "cell_type": "code",
      "metadata": {
        "id": "Jy5EPYKU-7pj",
        "colab_type": "code",
        "colab": {}
      },
      "source": [
        "import matplotlib.pyplot as plt\n",
        "from pyspark_dist_explore import Histogram, hist"
      ],
      "execution_count": 5,
      "outputs": []
    },
    {
      "cell_type": "markdown",
      "metadata": {
        "id": "prWDLV3rETIU",
        "colab_type": "text"
      },
      "source": [
        "**3. INISIALISASI SPARK CONTEXT DAN SPARK SESSION**"
      ]
    },
    {
      "cell_type": "code",
      "metadata": {
        "id": "fimtbZzh-_Sw",
        "colab_type": "code",
        "colab": {}
      },
      "source": [
        "sc = spark.sparkContext\n",
        "spark = SparkSession(sc)"
      ],
      "execution_count": 6,
      "outputs": []
    },
    {
      "cell_type": "markdown",
      "metadata": {
        "id": "fu6VwIYPEYGP",
        "colab_type": "text"
      },
      "source": [
        "**4. LOAD DATASET**"
      ]
    },
    {
      "cell_type": "code",
      "metadata": {
        "id": "kH_xO_B0_EGS",
        "colab_type": "code",
        "colab": {
          "base_uri": "https://localhost:8080/",
          "height": 485
        },
        "outputId": "e3cea43d-d5e3-403d-fc82-dd96abb0b156"
      },
      "source": [
        "train_df = spark.read.csv(\"Train.csv\", header=True, inferSchema=True)\n",
        "train_df.printSchema()            #mengecek schema dari dataset"
      ],
      "execution_count": 8,
      "outputs": [
        {
          "output_type": "stream",
          "text": [
            "root\n",
            " |-- _c0: integer (nullable = true)\n",
            " |-- id: integer (nullable = true)\n",
            " |-- Gender: string (nullable = true)\n",
            " |-- Customer Type: string (nullable = true)\n",
            " |-- Age: integer (nullable = true)\n",
            " |-- Type of Travel: string (nullable = true)\n",
            " |-- Class: string (nullable = true)\n",
            " |-- Flight Distance: integer (nullable = true)\n",
            " |-- Inflight wifi service: integer (nullable = true)\n",
            " |-- Departure/Arrival time convenient: integer (nullable = true)\n",
            " |-- Ease of Online booking: integer (nullable = true)\n",
            " |-- Gate location: integer (nullable = true)\n",
            " |-- Food and drink: integer (nullable = true)\n",
            " |-- Online boarding: integer (nullable = true)\n",
            " |-- Seat comfort: integer (nullable = true)\n",
            " |-- Inflight entertainment: integer (nullable = true)\n",
            " |-- On-board service: integer (nullable = true)\n",
            " |-- Leg room service: integer (nullable = true)\n",
            " |-- Baggage handling: integer (nullable = true)\n",
            " |-- Checkin service: integer (nullable = true)\n",
            " |-- Inflight service: integer (nullable = true)\n",
            " |-- Cleanliness: integer (nullable = true)\n",
            " |-- Departure Delay in Minutes: integer (nullable = true)\n",
            " |-- Arrival Delay in Minutes: double (nullable = true)\n",
            " |-- satisfaction: string (nullable = true)\n",
            "\n"
          ],
          "name": "stdout"
        }
      ]
    },
    {
      "cell_type": "markdown",
      "metadata": {
        "id": "tP5Zyf7NEvpa",
        "colab_type": "text"
      },
      "source": [
        "**5. PROSES EDA**"
      ]
    },
    {
      "cell_type": "code",
      "metadata": {
        "id": "IMIsFb0i_Sra",
        "colab_type": "code",
        "colab": {
          "base_uri": "https://localhost:8080/",
          "height": 52
        },
        "outputId": "2dbfcd8b-c019-4efc-bf77-0ef494423650"
      },
      "source": [
        "print(\"Jumlah total penumpang:\")\n",
        "train_df.count()"
      ],
      "execution_count": 9,
      "outputs": [
        {
          "output_type": "stream",
          "text": [
            "Jumlah total penumpang:\n"
          ],
          "name": "stdout"
        },
        {
          "output_type": "execute_result",
          "data": {
            "text/plain": [
              "103904"
            ]
          },
          "metadata": {
            "tags": []
          },
          "execution_count": 9
        }
      ]
    },
    {
      "cell_type": "code",
      "metadata": {
        "id": "GIIjrUfr_kJa",
        "colab_type": "code",
        "colab": {
          "base_uri": "https://localhost:8080/",
          "height": 156
        },
        "outputId": "b3bc30f4-833e-4127-c7d2-d3888c81055b"
      },
      "source": [
        "print(\"Jumlah penumpang pada masing-masing Class Kereta : \")\n",
        "train_df.groupby(\"class\").count().show()"
      ],
      "execution_count": 10,
      "outputs": [
        {
          "output_type": "stream",
          "text": [
            "+--------+-----+\n",
            "|   class|count|\n",
            "+--------+-----+\n",
            "|Eco Plus| 7494|\n",
            "|Business|49665|\n",
            "|     Eco|46745|\n",
            "+--------+-----+\n",
            "\n"
          ],
          "name": "stdout"
        }
      ]
    },
    {
      "cell_type": "code",
      "metadata": {
        "id": "Z0F4YxBp_qZn",
        "colab_type": "code",
        "colab": {
          "base_uri": "https://localhost:8080/",
          "height": 156
        },
        "outputId": "3532f066-77db-4ff3-b3d5-57582602f085"
      },
      "source": [
        "print(\"Jumlah penumpang pada masing-masing gender : \")\n",
        "train_df.groupby(\"gender\").count().show()"
      ],
      "execution_count": 11,
      "outputs": [
        {
          "output_type": "stream",
          "text": [
            "Jumlah penumpang pada masing-masing gender : \n",
            "+------+-----+\n",
            "|gender|count|\n",
            "+------+-----+\n",
            "|Female|52727|\n",
            "|  Male|51177|\n",
            "+------+-----+\n",
            "\n"
          ],
          "name": "stdout"
        }
      ]
    },
    {
      "cell_type": "code",
      "metadata": {
        "id": "JmijUyxQ_vhq",
        "colab_type": "code",
        "colab": {
          "base_uri": "https://localhost:8080/",
          "height": 156
        },
        "outputId": "16b2d56d-6c66-4d37-c804-d358988c2dd0"
      },
      "source": [
        "print(\"Jumlah satisfaction penumpang : \")\n",
        "train_df.groupby(\"satisfaction\").count().show()"
      ],
      "execution_count": 12,
      "outputs": [
        {
          "output_type": "stream",
          "text": [
            "Jumlah satisfaction penumpang : \n",
            "+--------------------+-----+\n",
            "|        satisfaction|count|\n",
            "+--------------------+-----+\n",
            "|neutral or dissat...|58879|\n",
            "|           satisfied|45025|\n",
            "+--------------------+-----+\n",
            "\n"
          ],
          "name": "stdout"
        }
      ]
    },
    {
      "cell_type": "code",
      "metadata": {
        "id": "fkKY655DAOCp",
        "colab_type": "code",
        "colab": {
          "base_uri": "https://localhost:8080/",
          "height": 191
        },
        "outputId": "caf2b647-9974-4f03-d20a-d7cea13e1017"
      },
      "source": [
        "train_df.select('class').describe().show()"
      ],
      "execution_count": 13,
      "outputs": [
        {
          "output_type": "stream",
          "text": [
            "+-------+--------+\n",
            "|summary|   class|\n",
            "+-------+--------+\n",
            "|  count|  103904|\n",
            "|   mean|    null|\n",
            "| stddev|    null|\n",
            "|    min|Business|\n",
            "|    max|Eco Plus|\n",
            "+-------+--------+\n",
            "\n"
          ],
          "name": "stdout"
        }
      ]
    },
    {
      "cell_type": "code",
      "metadata": {
        "id": "GcxodPb6AQ5D",
        "colab_type": "code",
        "colab": {
          "base_uri": "https://localhost:8080/",
          "height": 191
        },
        "outputId": "a572b035-e4c6-4b01-f904-8ed739cbccdb"
      },
      "source": [
        "train_df.select('gender').describe().show()"
      ],
      "execution_count": 14,
      "outputs": [
        {
          "output_type": "stream",
          "text": [
            "+-------+------+\n",
            "|summary|gender|\n",
            "+-------+------+\n",
            "|  count|103904|\n",
            "|   mean|  null|\n",
            "| stddev|  null|\n",
            "|    min|Female|\n",
            "|    max|  Male|\n",
            "+-------+------+\n",
            "\n"
          ],
          "name": "stdout"
        }
      ]
    },
    {
      "cell_type": "code",
      "metadata": {
        "id": "-2Qm4eXyAVyH",
        "colab_type": "code",
        "colab": {
          "base_uri": "https://localhost:8080/",
          "height": 191
        },
        "outputId": "0888f0d6-5367-43c4-8339-468784790322"
      },
      "source": [
        "train_df.select('satisfaction').describe().show()"
      ],
      "execution_count": 15,
      "outputs": [
        {
          "output_type": "stream",
          "text": [
            "+-------+--------------------+\n",
            "|summary|        satisfaction|\n",
            "+-------+--------------------+\n",
            "|  count|              103904|\n",
            "|   mean|                null|\n",
            "| stddev|                null|\n",
            "|    min|neutral or dissat...|\n",
            "|    max|           satisfied|\n",
            "+-------+--------------------+\n",
            "\n"
          ],
          "name": "stdout"
        }
      ]
    },
    {
      "cell_type": "markdown",
      "metadata": {
        "id": "NhqjvAxtPZrd",
        "colab_type": "text"
      },
      "source": [
        "data age tidak digunakan pada proses inti, hanya pengujian histogram."
      ]
    },
    {
      "cell_type": "code",
      "metadata": {
        "id": "ld8VipPMPNP9",
        "colab_type": "code",
        "colab": {
          "base_uri": "https://localhost:8080/",
          "height": 191
        },
        "outputId": "c11a6eeb-7c69-4d9f-b1b4-dddabb980570"
      },
      "source": [
        "train_df.select('Age').describe().show()"
      ],
      "execution_count": 17,
      "outputs": [
        {
          "output_type": "stream",
          "text": [
            "+-------+------------------+\n",
            "|summary|               Age|\n",
            "+-------+------------------+\n",
            "|  count|            103904|\n",
            "|   mean|39.379706267323684|\n",
            "| stddev|15.114963699737805|\n",
            "|    min|                 7|\n",
            "|    max|                85|\n",
            "+-------+------------------+\n",
            "\n"
          ],
          "name": "stdout"
        }
      ]
    },
    {
      "cell_type": "code",
      "metadata": {
        "id": "OEeuISICAfbM",
        "colab_type": "code",
        "colab": {
          "base_uri": "https://localhost:8080/",
          "height": 320
        },
        "outputId": "4a425cd5-41f4-4e4a-9122-d7aee93394a1"
      },
      "source": [
        "train_df_age = train_df.select('Age')\n",
        "fig, axes = plt.subplots()\n",
        "fig.set_size_inches(5, 5)\n",
        "hist(axes, train_df_age, bins=20, color=\"purple\")\n",
        "plt.show()"
      ],
      "execution_count": 16,
      "outputs": [
        {
          "output_type": "display_data",
          "data": {
            "image/png": "[encoded data removed]",
            "text/plain": [
              "<Figure size 360x360 with 1 Axes>"
            ]
          },
          "metadata": {
            "tags": [],
            "needs_background": "light"
          }
        }
      ]
    },
    {
      "cell_type": "markdown",
      "metadata": {
        "id": "MbEvHgByE43r",
        "colab_type": "text"
      },
      "source": [
        "**6. PRE - PROCESSING DATA**"
      ]
    },
    {
      "cell_type": "markdown",
      "metadata": {
        "id": "GjuJs7IaJKlY",
        "colab_type": "text"
      },
      "source": [
        "Pada proses yang akan saya lakukan kita hanya menghitung jumlah data penumpang berdasarkan parameter \"gender\", \"satisfaction\" untuk tiap \"class\" pada kereta tersebut sehingga untuk pengolahan data null,outlier, data string tidak dapat dproses dengan baik, oleh karena itu saya akan mencontohkan pada kolom \"Age\" dengan tipe Integer agar dapat menampilkan histogram dan melihat apakah data masih berisi \"Null\" atau tidak."
      ]
    },
    {
      "cell_type": "code",
      "metadata": {
        "id": "lk0Ier7dFGVh",
        "colab_type": "code",
        "colab": {
          "base_uri": "https://localhost:8080/",
          "height": 35
        },
        "outputId": "e6b46a94-9475-4565-b0df-3f117fe8c852"
      },
      "source": [
        "mean_age = train_df.agg(avg(col(\"age\"))).first()\n",
        "print(\"rata-rata class\", mean_age[0])\n",
        "train_df = train_df.na.fill(mean_age[0], [\"age\"])"
      ],
      "execution_count": 18,
      "outputs": [
        {
          "output_type": "stream",
          "text": [
            "rata-rata class 39.379706267323684\n"
          ],
          "name": "stdout"
        }
      ]
    },
    {
      "cell_type": "code",
      "metadata": {
        "id": "g07JKRaPFch7",
        "colab_type": "code",
        "colab": {
          "base_uri": "https://localhost:8080/",
          "height": 52
        },
        "outputId": "bd9afb92-61b2-4bc4-82ea-e5ca4efa577b"
      },
      "source": [
        "print(\"Jumlah total penumpang dengan kolom Age kosong(null):\")\n",
        "train_df.where(col(\"Age\").isNull()).count()"
      ],
      "execution_count": 19,
      "outputs": [
        {
          "output_type": "stream",
          "text": [
            "Jumlah total penumpang dengan kolom Age kosong(null):\n"
          ],
          "name": "stdout"
        },
        {
          "output_type": "execute_result",
          "data": {
            "text/plain": [
              "0"
            ]
          },
          "metadata": {
            "tags": []
          },
          "execution_count": 19
        }
      ]
    },
    {
      "cell_type": "code",
      "metadata": {
        "id": "s1wdv-3nFDJa",
        "colab_type": "code",
        "colab": {}
      },
      "source": [
        "train_df.coalesce(1).write.csv(\"train2_processed\", header=True)"
      ],
      "execution_count": 20,
      "outputs": []
    },
    {
      "cell_type": "code",
      "metadata": {
        "id": "AIWhgT6bFFUx",
        "colab_type": "code",
        "colab": {}
      },
      "source": [
        "spark.stop()    #digunakan untuk menghentikan SparkSession"
      ],
      "execution_count": 21,
      "outputs": []
    }
  ]
}